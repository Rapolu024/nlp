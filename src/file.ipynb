{
 "cells": [
  {
   "cell_type": "code",
   "execution_count": 18,
   "id": "ff36d4f6-e62b-480d-9ef0-97a111a9b6c1",
   "metadata": {},
   "outputs": [],
   "source": [
    "import pandas as pd\n",
    "import numpy as np\n",
    "import nltk"
   ]
  },
  {
   "cell_type": "code",
   "execution_count": 36,
   "id": "cb03d129-bd0c-4dbe-acb2-0a7b74a66486",
   "metadata": {},
   "outputs": [
    {
     "name": "stdout",
     "output_type": "stream",
     "text": [
      "Overwriting test.txt\n"
     ]
    }
   ],
   "source": [
    "%%writefile test.txt\n",
    "Hello, this is a quick test file.\n",
    "This is the second line of the file."
   ]
  },
  {
   "cell_type": "code",
   "execution_count": 37,
   "id": "0468b196-950f-46dd-a71e-3792bbc6e182",
   "metadata": {},
   "outputs": [],
   "source": [
    "my_file = open(\"test.txt\")\n",
    "data_in_file = my_file.read()"
   ]
  },
  {
   "cell_type": "code",
   "execution_count": 38,
   "id": "9be79d61-343c-4e1d-8de4-74cd5efdf683",
   "metadata": {},
   "outputs": [
    {
     "data": {
      "text/plain": [
       "'Hello, this is a quick test file.\\nThis is the second line of the file.\\n'"
      ]
     },
     "execution_count": 38,
     "metadata": {},
     "output_type": "execute_result"
    }
   ],
   "source": [
    "my_file.seek(0) #seek is used to set the index of the file \n",
    "data_in_file"
   ]
  },
  {
   "cell_type": "code",
   "execution_count": 39,
   "id": "d683f055-3cf5-4ad0-a1bf-6e54018c4be2",
   "metadata": {},
   "outputs": [],
   "source": [
    "my_file.close()"
   ]
  },
  {
   "cell_type": "code",
   "execution_count": 40,
   "id": "3c059c51-b3b5-4f58-9fa7-e2df051ad15a",
   "metadata": {},
   "outputs": [],
   "source": [
    "my_file = open(\"test.txt\")\n",
    "data_in_file = my_file.readlines() #read lines is the function which allows to read the entire file"
   ]
  },
  {
   "cell_type": "code",
   "execution_count": 41,
   "id": "223484f6-3bda-4185-b32e-445abe7adc3e",
   "metadata": {},
   "outputs": [
    {
     "name": "stdout",
     "output_type": "stream",
     "text": [
      "Hello, this is a quick test file.\n",
      "\n",
      "This is the second line of the file.\n",
      "\n"
     ]
    }
   ],
   "source": [
    "for line in data_in_file:\n",
    "    print(line)"
   ]
  },
  {
   "cell_type": "code",
   "execution_count": 88,
   "id": "724a1004-5d44-4532-8b96-30ed2043adfb",
   "metadata": {},
   "outputs": [],
   "source": [
    "my_file = open(\"test.txt\", 'w+') #this will take the index at the end of the file\n",
    "my_file.write(\"this is the first line\")\n",
    "data_in_file = my_file.readlines()"
   ]
  },
  {
   "cell_type": "code",
   "execution_count": 89,
   "id": "8db86972-ab52-4d02-8891-368b8bfff796",
   "metadata": {},
   "outputs": [],
   "source": [
    "my_file.close()"
   ]
  },
  {
   "cell_type": "code",
   "execution_count": 90,
   "id": "07ce79ec-573d-4d0e-9498-fcb0cd201f18",
   "metadata": {},
   "outputs": [],
   "source": [
    "my_file = open(\"test.txt\", 'a+') # 'a+' is used to append to the file\n",
    "# my_file.seek(0)\n",
    "# my_file.read()"
   ]
  },
  {
   "cell_type": "code",
   "execution_count": 91,
   "id": "4d93ae80-83d7-4cf4-b474-250750df4c0e",
   "metadata": {},
   "outputs": [],
   "source": [
    "my_file.write(\"\\nthis is the second line\")\n",
    "my_file.close()\n",
    "my_file = open('test.txt', 'r')\n",
    "data_in_file = my_file.readlines()"
   ]
  },
  {
   "cell_type": "code",
   "execution_count": 93,
   "id": "f87a6627-fca0-41da-bbac-b8cf8748dd57",
   "metadata": {},
   "outputs": [
    {
     "name": "stdout",
     "output_type": "stream",
     "text": [
      "this is the first line\n",
      "\n",
      "this is the second line\n"
     ]
    }
   ],
   "source": [
    "for lines in data_in_file:\n",
    "    print(lines)\n",
    "my_file.close()"
   ]
  },
  {
   "cell_type": "code",
   "execution_count": 97,
   "id": "aaae949b-a2e7-457e-baea-7e583073bd48",
   "metadata": {},
   "outputs": [],
   "source": [
    "\"\"\" \n",
    "we can use the with keyword to automatically open and close the files \n",
    "we can perform the slicing operation once we take the instance of the file\n",
    "\"\"\"\n",
    "with open(\"test.txt\") as file:\n",
    "    my_file = file.readlines()"
   ]
  },
  {
   "cell_type": "code",
   "execution_count": 99,
   "id": "d4f0c2cf-7199-4677-b3cf-19b66121bfb9",
   "metadata": {},
   "outputs": [
    {
     "data": {
      "text/plain": [
       "'this is the second line'"
      ]
     },
     "execution_count": 99,
     "metadata": {},
     "output_type": "execute_result"
    }
   ],
   "source": [
    "my_file[1]  # this is an example for the above"
   ]
  },
  {
   "cell_type": "markdown",
   "id": "368a5e2e-b3b2-4aec-b13c-dfd430638dc1",
   "metadata": {},
   "source": [
    "# this is for the PDF files"
   ]
  },
  {
   "cell_type": "code",
   "execution_count": 176,
   "id": "9ae42237-6400-4aff-8294-ccf9869ac97d",
   "metadata": {},
   "outputs": [
    {
     "data": {
      "text/plain": [
       "5"
      ]
     },
     "execution_count": 176,
     "metadata": {},
     "output_type": "execute_result"
    }
   ],
   "source": [
    "import PyPDF2\n",
    "file = open('US_Declaration.pdf', 'rb') \n",
    "my_file = PyPDF2.PdfReader(file)\n",
    "len(my_file.pages)"
   ]
  },
  {
   "cell_type": "code",
   "execution_count": 177,
   "id": "0d56581a-edce-4717-a835-2a30794805fd",
   "metadata": {},
   "outputs": [
    {
     "data": {
      "text/plain": [
       "\"Declaration of Independence\\nIN CONGRESS, July 4, 1776.  \\nThe unanimous Declaration of the thirteen united States of America,  \\nWhen in the Course of human events, it becomes necessary for one people to dissolve thepolitical bands which have connected them with another, and to assume among the powers of theearth, the separate and equal station to which the Laws of Nature and of Nature's God entitlethem, a decent respect to the opinions of mankind requires that they should declare the causeswhich impel them to the separation. We hold these truths to be self-evident, that all men are created equal, that they are endowed bytheir Creator with certain unalienable Rights, that among these are Life, Liberty and the pursuit\\nof Happiness.— \\x14That to secure these rights, Governments are instituted among Men, derivingtheir just powers from the consent of the governed,—  \\x14That whenever any Form of Government\\nbecomes destructive of these ends, it is the Right of the People to alter or to abolish it, and to\\ninstitute new Government, laying its foundation on such principles and organizing its powers in\\nsuch form, as to them shall seem most likely to effect their Safety and Happiness. Prudence,indeed, will dictate that Governments long established should not be changed for light andtransient causes; and accordingly all experience hath shewn, that mankind are more disposed to\\nsuffer, while evils are sufferable, than to right themselves by abolishing the forms to which theyare accustomed. But when a long train of abuses and usurpations, pursuing invariably the same\\nObject evinces a design to reduce them under absolute Despotism, it is their right, it is their duty,\\nto throw off such Government, and to provide new Guards for their future securit y.— \\x14Such has\\nbeen the patient sufferance of these Colonies; and such is now the necessity which constrainsthem to alter their former Systems of Government. The history of the present King of GreatBritain is a history of repeated injuries and usurpations, all having in direct object the\\nestablishment of an absolute Tyranny over these States. To prove this, let Facts be submitted to a\\ncandid world. \\nHe has refused his Assent to Laws, the most wholesome and necessary for the\\npublic good.He has forbidden his Governors to pass Laws of immediate and pressingimportance, unless suspended in their operation till his Assent should be obtained;and when so suspended, he has utterly neglected to attend to them.He has refused to pass other Laws for the accommodation of large districts of\\npeople, unless those people would relinquish the right of Representation in theLegislature, a right inestimable to them and formidable to tyrants only. He has called together legislative bodies at places unusual, uncomfortable, and distantfrom the depository of their public Records, for the sole purpose of fatiguing them into\\ncompliance with his measures.\""
      ]
     },
     "execution_count": 177,
     "metadata": {},
     "output_type": "execute_result"
    }
   ],
   "source": [
    "first_pages = my_file.pages[0]\n",
    "unique_page = first_pages.extract_text()\n",
    "unique_page"
   ]
  },
  {
   "cell_type": "code",
   "execution_count": null,
   "id": "6365dd5c-0352-4d35-b717-1a1312da7d15",
   "metadata": {},
   "outputs": [],
   "source": []
  },
  {
   "cell_type": "code",
   "execution_count": 191,
   "id": "90c72a83-28da-410f-89c9-4c2b922e4e49",
   "metadata": {},
   "outputs": [],
   "source": [
    "new_file = open(\"test.pdf\", 'wb')\n",
    "file = PyPDF2.PdfWriter()\n",
    "file.add_page(first_pages)\n",
    "file.write(new_file)\n",
    "file.close()"
   ]
  },
  {
   "cell_type": "code",
   "execution_count": 192,
   "id": "3a3b8cd4-56cd-480a-9141-9c832440a92a",
   "metadata": {},
   "outputs": [],
   "source": [
    "new_file = open('test.pdf', 'rb')"
   ]
  },
  {
   "cell_type": "code",
   "execution_count": 195,
   "id": "9d1a625d-b138-4ab1-8c24-773789364c8e",
   "metadata": {},
   "outputs": [
    {
     "data": {
      "text/plain": [
       "1"
      ]
     },
     "execution_count": 195,
     "metadata": {},
     "output_type": "execute_result"
    }
   ],
   "source": [
    "new_file_reader = PyPDF2.PdfReader(new_file)\n",
    "len(new_file_reader.pages)"
   ]
  },
  {
   "cell_type": "code",
   "execution_count": 196,
   "id": "b7600f30-fb00-4244-987c-17020ce97e1b",
   "metadata": {},
   "outputs": [
    {
     "data": {
      "text/plain": [
       "\"Declaration of Independence\\nIN CONGRESS, July 4, 1776.  \\nThe unanimous Declaration of the thirteen united States of America,  \\nWhen in the Course of human events, it becomes necessary for one people to dissolve thepolitical bands which have connected them with another, and to assume among the powers of theearth, the separate and equal station to which the Laws of Nature and of Nature's God entitlethem, a decent respect to the opinions of mankind requires that they should declare the causeswhich impel them to the separation. We hold these truths to be self-evident, that all men are created equal, that they are endowed bytheir Creator with certain unalienable Rights, that among these are Life, Liberty and the pursuit\\nof Happiness.— \\x14That to secure these rights, Governments are instituted among Men, derivingtheir just powers from the consent of the governed,—  \\x14That whenever any Form of Government\\nbecomes destructive of these ends, it is the Right of the People to alter or to abolish it, and to\\ninstitute new Government, laying its foundation on such principles and organizing its powers in\\nsuch form, as to them shall seem most likely to effect their Safety and Happiness. Prudence,indeed, will dictate that Governments long established should not be changed for light andtransient causes; and accordingly all experience hath shewn, that mankind are more disposed to\\nsuffer, while evils are sufferable, than to right themselves by abolishing the forms to which theyare accustomed. But when a long train of abuses and usurpations, pursuing invariably the same\\nObject evinces a design to reduce them under absolute Despotism, it is their right, it is their duty,\\nto throw off such Government, and to provide new Guards for their future securit y.— \\x14Such has\\nbeen the patient sufferance of these Colonies; and such is now the necessity which constrainsthem to alter their former Systems of Government. The history of the present King of GreatBritain is a history of repeated injuries and usurpations, all having in direct object the\\nestablishment of an absolute Tyranny over these States. To prove this, let Facts be submitted to a\\ncandid world. \\nHe has refused his Assent to Laws, the most wholesome and necessary for the\\npublic good.He has forbidden his Governors to pass Laws of immediate and pressingimportance, unless suspended in their operation till his Assent should be obtained;and when so suspended, he has utterly neglected to attend to them.He has refused to pass other Laws for the accommodation of large districts of\\npeople, unless those people would relinquish the right of Representation in theLegislature, a right inestimable to them and formidable to tyrants only. He has called together legislative bodies at places unusual, uncomfortable, and distantfrom the depository of their public Records, for the sole purpose of fatiguing them into\\ncompliance with his measures.\""
      ]
     },
     "execution_count": 196,
     "metadata": {},
     "output_type": "execute_result"
    }
   ],
   "source": [
    "new_file_reader.pages[0].extract_text()"
   ]
  },
  {
   "cell_type": "code",
   "execution_count": 197,
   "id": "a3b075d3-c515-4a84-aee6-c16e31717b56",
   "metadata": {},
   "outputs": [],
   "source": [
    "new_file.close()"
   ]
  },
  {
   "cell_type": "code",
   "execution_count": null,
   "id": "b1c05ac2-aea0-4930-a4dc-73c6c489f45f",
   "metadata": {},
   "outputs": [],
   "source": []
  },
  {
   "cell_type": "markdown",
   "id": "1bb667ac-782f-44cd-9185-73b25f7d7e26",
   "metadata": {},
   "source": [
    "# Regular Expressions in python "
   ]
  },
  {
   "cell_type": "code",
   "execution_count": 202,
   "id": "71b44a6d-9f36-4146-9b35-a8e0c496b0d4",
   "metadata": {},
   "outputs": [
    {
     "data": {
      "text/plain": [
       "True"
      ]
     },
     "execution_count": 202,
     "metadata": {},
     "output_type": "execute_result"
    }
   ],
   "source": [
    "import re\n",
    "\n",
    "text = \"the phone number of an agent is 443-883-5333\"\n",
    "'phone' in text"
   ]
  },
  {
   "cell_type": "code",
   "execution_count": 224,
   "id": "5f878793-e49c-46b6-b4e3-48cfd475febe",
   "metadata": {},
   "outputs": [],
   "source": [
    "pattern = r\"(\\d{3})-(\\d{3})-(\\d{4})\"\n",
    "match = re.search(pattern, text)\n",
    "# span is used to span the index of the match\n",
    "# group is used to find the actual string of the given pattern\n",
    "# if we provide any index inside the group call that will return the part of the string"
   ]
  },
  {
   "cell_type": "code",
   "execution_count": 225,
   "id": "d1f454a1-57a4-47ff-b9d6-4b97b881c63f",
   "metadata": {},
   "outputs": [
    {
     "data": {
      "text/plain": [
       "'443-883-5333'"
      ]
     },
     "execution_count": 225,
     "metadata": {},
     "output_type": "execute_result"
    }
   ],
   "source": [
    "# Example of one such is following\n",
    "match.group()"
   ]
  },
  {
   "cell_type": "code",
   "execution_count": null,
   "id": "079a90f5-2293-4387-98bd-7f0f8697bdaa",
   "metadata": {},
   "outputs": [],
   "source": [
    "re.findall "
   ]
  }
 ],
 "metadata": {
  "kernelspec": {
   "display_name": "Python 3 (ipykernel)",
   "language": "python",
   "name": "python3"
  },
  "language_info": {
   "codemirror_mode": {
    "name": "ipython",
    "version": 3
   },
   "file_extension": ".py",
   "mimetype": "text/x-python",
   "name": "python",
   "nbconvert_exporter": "python",
   "pygments_lexer": "ipython3",
   "version": "3.11.6"
  }
 },
 "nbformat": 4,
 "nbformat_minor": 5
}
